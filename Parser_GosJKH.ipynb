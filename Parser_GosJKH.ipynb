{
  "nbformat": 4,
  "nbformat_minor": 0,
  "metadata": {
    "colab": {
      "name": "Parser_GosJKH.ipynb",
      "provenance": [],
      "toc_visible": true,
      "authorship_tag": "ABX9TyPwZO3HKYijIgQ/0d4hye4u",
      "include_colab_link": true
    },
    "kernelspec": {
      "name": "python3",
      "display_name": "Python 3"
    }
  },
  "cells": [
    {
      "cell_type": "markdown",
      "metadata": {
        "id": "view-in-github",
        "colab_type": "text"
      },
      "source": [
        "<a href=\"https://colab.research.google.com/github/JulyMarc/hello-world/blob/master/Parser_GosJKH.ipynb\" target=\"_parent\"><img src=\"https://colab.research.google.com/assets/colab-badge.svg\" alt=\"Open In Colab\"/></a>"
      ]
    },
    {
      "cell_type": "code",
      "metadata": {
        "id": "6vWkBLdyF5TG",
        "colab_type": "code",
        "colab": {}
      },
      "source": [
        "import pandas as pd\n",
        "import numpy as np; np.random.seed(0)\n",
        "from bs4 import BeautifulSoup\n",
        "import requests\n",
        "from tqdm import tqdm"
      ],
      "execution_count": null,
      "outputs": []
    },
    {
      "cell_type": "code",
      "metadata": {
        "id": "caRPlJ0dF8SP",
        "colab_type": "code",
        "colab": {
          "base_uri": "https://localhost:8080/",
          "height": 35
        },
        "outputId": "115d3914-adf3-44ea-a97d-ab52285574c6"
      },
      "source": [
        "df = pd.DataFrame()\n",
        "err_pages = []\n",
        "for i in tqdm(range(287)):\n",
        "  try:\n",
        "    url = str('https://gosjkh.ru/houses/novosibirskaya-oblast/novosibirsk?page=' + str(i+1))\n",
        "    html = requests.get(url).content\n",
        "    df_list = pd.read_html(html)\n",
        "    df = df.append(df_list[0][1:])\n",
        "  except:\n",
        "    err_pages.append(i)"
      ],
      "execution_count": null,
      "outputs": [
        {
          "output_type": "stream",
          "text": [
            "100%|██████████| 287/287 [06:48<00:00,  1.42s/it]\n"
          ],
          "name": "stderr"
        }
      ]
    },
    {
      "cell_type": "code",
      "metadata": {
        "id": "S0oyS1yRGEcl",
        "colab_type": "code",
        "colab": {
          "base_uri": "https://localhost:8080/",
          "height": 202
        },
        "outputId": "c0f24e28-9b2d-4bcd-aa34-2dd78fd74e7c"
      },
      "source": [
        "df.head()"
      ],
      "execution_count": null,
      "outputs": [
        {
          "output_type": "execute_result",
          "data": {
            "text/html": [
              "<div>\n",
              "<style scoped>\n",
              "    .dataframe tbody tr th:only-of-type {\n",
              "        vertical-align: middle;\n",
              "    }\n",
              "\n",
              "    .dataframe tbody tr th {\n",
              "        vertical-align: top;\n",
              "    }\n",
              "\n",
              "    .dataframe thead th {\n",
              "        text-align: right;\n",
              "    }\n",
              "</style>\n",
              "<table border=\"1\" class=\"dataframe\">\n",
              "  <thead>\n",
              "    <tr style=\"text-align: right;\">\n",
              "      <th></th>\n",
              "      <th>№</th>\n",
              "      <th>Адрес</th>\n",
              "      <th>Управляющий</th>\n",
              "      <th>Телефон</th>\n",
              "      <th>Год</th>\n",
              "      <th>Площадь м2</th>\n",
              "      <th>Жители</th>\n",
              "    </tr>\n",
              "  </thead>\n",
              "  <tbody>\n",
              "    <tr>\n",
              "      <th>1</th>\n",
              "      <td>2</td>\n",
              "      <td>г. Барабинск, ул. Халтурина, д. 31А</td>\n",
              "      <td>МУП ЖКХ</td>\n",
              "      <td>8-383-61-24470</td>\n",
              "      <td>1980</td>\n",
              "      <td>1 770.46</td>\n",
              "      <td>79</td>\n",
              "    </tr>\n",
              "    <tr>\n",
              "      <th>2</th>\n",
              "      <td>3</td>\n",
              "      <td>г. Барабинск, ул. Халтурина, д. 33</td>\n",
              "      <td>МУП ЖКХ</td>\n",
              "      <td>8-383-61-24470</td>\n",
              "      <td>1978</td>\n",
              "      <td>268.00</td>\n",
              "      <td>11</td>\n",
              "    </tr>\n",
              "    <tr>\n",
              "      <th>3</th>\n",
              "      <td>4</td>\n",
              "      <td>г. Барабинск, ул. Халтурина, д. 35</td>\n",
              "      <td>МУП ЖКХ</td>\n",
              "      <td>8-383-61-24470</td>\n",
              "      <td>1977</td>\n",
              "      <td>259.70</td>\n",
              "      <td>12</td>\n",
              "    </tr>\n",
              "    <tr>\n",
              "      <th>4</th>\n",
              "      <td>5</td>\n",
              "      <td>г. Барабинск, ул. Халтурина, д. 37</td>\n",
              "      <td>МУП ЖКХ</td>\n",
              "      <td>8-383-61-24470</td>\n",
              "      <td>1979</td>\n",
              "      <td>269.90</td>\n",
              "      <td>6</td>\n",
              "    </tr>\n",
              "    <tr>\n",
              "      <th>5</th>\n",
              "      <td>6</td>\n",
              "      <td>г. Бердск, ул. Тихая, д. 2</td>\n",
              "      <td>ТСЖ «Мостки»</td>\n",
              "      <td>89137607969</td>\n",
              "      <td>—</td>\n",
              "      <td>900.00</td>\n",
              "      <td>—</td>\n",
              "    </tr>\n",
              "  </tbody>\n",
              "</table>\n",
              "</div>"
            ],
            "text/plain": [
              "   №                                Адрес   Управляющий  ...   Год Площадь м2 Жители\n",
              "1  2  г. Барабинск, ул. Халтурина, д. 31А       МУП ЖКХ  ...  1980   1 770.46     79\n",
              "2  3   г. Барабинск, ул. Халтурина, д. 33       МУП ЖКХ  ...  1978     268.00     11\n",
              "3  4   г. Барабинск, ул. Халтурина, д. 35       МУП ЖКХ  ...  1977     259.70     12\n",
              "4  5   г. Барабинск, ул. Халтурина, д. 37       МУП ЖКХ  ...  1979     269.90      6\n",
              "5  6           г. Бердск, ул. Тихая, д. 2  ТСЖ «Мостки»  ...     —     900.00      —\n",
              "\n",
              "[5 rows x 7 columns]"
            ]
          },
          "metadata": {
            "tags": []
          },
          "execution_count": 6
        }
      ]
    },
    {
      "cell_type": "code",
      "metadata": {
        "id": "vo9W2_xYGGil",
        "colab_type": "code",
        "colab": {
          "base_uri": "https://localhost:8080/",
          "height": 35
        },
        "outputId": "3b354c4e-6713-4aba-b5aa-3a85398f56cd"
      },
      "source": [
        "df.shape"
      ],
      "execution_count": null,
      "outputs": [
        {
          "output_type": "execute_result",
          "data": {
            "text/plain": [
              "(6884, 7)"
            ]
          },
          "metadata": {
            "tags": []
          },
          "execution_count": 9
        }
      ]
    },
    {
      "cell_type": "code",
      "metadata": {
        "id": "bxYprjz9I3uu",
        "colab_type": "code",
        "colab": {}
      },
      "source": [
        "df.to_csv('GosJKH.csv')"
      ],
      "execution_count": null,
      "outputs": []
    }
  ]
}